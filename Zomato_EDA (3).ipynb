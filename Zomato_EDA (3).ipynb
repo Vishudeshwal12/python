{
  "nbformat": 4,
  "nbformat_minor": 0,
  "metadata": {
    "colab": {
      "private_outputs": true,
      "provenance": []
    },
    "kernelspec": {
      "name": "python3",
      "display_name": "Python 3"
    },
    "language_info": {
      "name": "python"
    }
  },
  "cells": [
    {
      "cell_type": "code",
      "execution_count": null,
      "metadata": {
        "id": "VnQ8lrQR8GcC"
      },
      "outputs": [],
      "source": [
        "import numpy as np\n",
        "import pandas as pd\n",
        "import matplotlib.pyplot as plt\n",
        "import seaborn as sns"
      ]
    },
    {
      "cell_type": "code",
      "source": [
        "from google.colab import drive\n",
        "drive.mount('/content/drive')\n"
      ],
      "metadata": {
        "id": "6vo9EQrD8Ut1"
      },
      "execution_count": null,
      "outputs": []
    },
    {
      "cell_type": "code",
      "source": [
        "\n",
        "file_path = \"/content/drive/MyDrive/resturent practice/Copy of Indian-Resturants.csv\""
      ],
      "metadata": {
        "id": "2puuOOCd8rbn"
      },
      "execution_count": null,
      "outputs": []
    },
    {
      "cell_type": "code",
      "source": [
        "df = pd.read_csv(file_path, encoding='latin-1')\n"
      ],
      "metadata": {
        "id": "ROAoZTp55sTl"
      },
      "execution_count": null,
      "outputs": []
    },
    {
      "cell_type": "code",
      "source": [
        "df.shape"
      ],
      "metadata": {
        "id": "avgQJL7Q9MQd"
      },
      "execution_count": null,
      "outputs": []
    },
    {
      "cell_type": "code",
      "source": [
        "pd.set_option = ('display.max.columns', None)"
      ],
      "metadata": {
        "id": "b9DXYX8p9Wda"
      },
      "execution_count": null,
      "outputs": []
    },
    {
      "cell_type": "code",
      "source": [
        "df.head()"
      ],
      "metadata": {
        "id": "-E0aazxq9jhi"
      },
      "execution_count": null,
      "outputs": []
    },
    {
      "cell_type": "code",
      "source": [
        "df.drop('zipcode', axis=1, inplace=True)"
      ],
      "metadata": {
        "id": "xtIG5KrU22B4"
      },
      "execution_count": null,
      "outputs": []
    },
    {
      "cell_type": "code",
      "source": [
        "df.describe()"
      ],
      "metadata": {
        "id": "WX_Z4Gbj9uht"
      },
      "execution_count": null,
      "outputs": []
    },
    {
      "cell_type": "code",
      "source": [
        "df.duplicated().sum()"
      ],
      "metadata": {
        "id": "d7xTO8S_6lrF"
      },
      "execution_count": null,
      "outputs": []
    },
    {
      "cell_type": "code",
      "source": [
        "df.drop_duplicates(inplace=True)"
      ],
      "metadata": {
        "id": "EMUGMKP56rqg"
      },
      "execution_count": null,
      "outputs": []
    },
    {
      "cell_type": "code",
      "source": [
        "df.info()"
      ],
      "metadata": {
        "id": "OHt8zadXe8X-"
      },
      "execution_count": null,
      "outputs": []
    },
    {
      "cell_type": "code",
      "source": [
        "df.describe()"
      ],
      "metadata": {
        "id": "EGdDihlgjvyV"
      },
      "execution_count": null,
      "outputs": []
    },
    {
      "cell_type": "code",
      "source": [
        "df.shape"
      ],
      "metadata": {
        "id": "OJYvyGBA3L2W"
      },
      "execution_count": null,
      "outputs": []
    },
    {
      "cell_type": "code",
      "source": [
        "df.isnull().sum()"
      ],
      "metadata": {
        "id": "RIZnyn-395_2"
      },
      "execution_count": null,
      "outputs": []
    },
    {
      "cell_type": "code",
      "source": [
        "sns.heatmap(df.isnull())\n",
        "plt.show()"
      ],
      "metadata": {
        "id": "pB9C0QCsSS3i"
      },
      "execution_count": null,
      "outputs": []
    },
    {
      "cell_type": "code",
      "source": [
        "df[df['address'].isna()]"
      ],
      "metadata": {
        "id": "Q4bNlg8HctJ7"
      },
      "execution_count": null,
      "outputs": []
    },
    {
      "cell_type": "code",
      "source": [
        "df.loc[df['res_id'] == 2601516, 'address'] = \"Jahangirabad, Bhopal, Madhya Pradesh\"\n",
        "df.loc[df['res_id'] == 18313028, 'address'] = \"Madhapur, Hyderabad, Telangana\"\n",
        "df.loc[df['res_id'] == 18725005, 'address'] = \"Moti Palace Township, Junagadh, Gujarat\"\n",
        "df.loc[df['res_id'] == 18725012, 'address'] = \"Joshipura, Junagadh, Gujarat\"\n",
        "df.loc[df['res_id'] == 18735076, 'address'] = \"Kalaikunda, Kharagpur, West Bengal\"\n",
        "df.loc[df['res_id'] == 18735080, 'address'] = \"Malancha, Kharagpur, West Bengal\"\n",
        "df.loc[df['res_id'] == 18735077, 'address'] = \"Nimpura, Kharagpur, West Bengal\"\n",
        "df.loc[df['res_id'] == 18735075, 'address'] = \"Kharagpur Rly Settlement, West Bengal\"\n",
        "df.loc[df['res_id'] == 18735082, 'address'] = \"Bidhanpally, Kharagpur, West Bengal\"\n",
        "df.loc[df['res_id'] == 18735081, 'address'] = \"New Settlement, Kharagpur, West Bengal\"\n",
        "df.loc[df['res_id'] == 18735078, 'address'] = \"Talbagicha, Kharagpur, West Bengal\"\n",
        "df.loc[df['res_id'] == 18735083, 'address'] = \"Bhawanipur, Kharagpur, West Bengal\"\n",
        "df.loc[df['res_id'] == 18735073, 'address'] = \"Vidyasagarpur, Kharagpur, West Bengal\"\n",
        "df.loc[df['res_id'] == 18735072, 'address'] = \"Inda, Kharagpur, West Bengal\"\n",
        "df.loc[df['res_id'] == 18735079, 'address'] = \"IIT Kharagpur, West Bengal\"\n",
        "df.loc[df['res_id'] == 18735074, 'address'] = \"South Side, Kharagpur, West Bengal\"\n",
        "df.loc[df['res_id'] == 18689293, 'address'] = \"Tatibandh, Raipur, Chhattisgarh\"\n",
        "df.loc[df['res_id'] == 18041435, 'address'] = \"Panchwati, Udaipur, Rajasthan\"\n"
      ],
      "metadata": {
        "id": "X1UYSZcWbVW6"
      },
      "execution_count": null,
      "outputs": []
    },
    {
      "cell_type": "code",
      "source": [
        "df['timings']= df['timings'].fillna('no timing')"
      ],
      "metadata": {
        "id": "WavkkkjPQg-l"
      },
      "execution_count": null,
      "outputs": []
    },
    {
      "cell_type": "code",
      "source": [
        "df[df['opentable_support'].isna()]"
      ],
      "metadata": {
        "id": "LOb-szs5hUQS"
      },
      "execution_count": null,
      "outputs": []
    },
    {
      "cell_type": "code",
      "source": [
        "df.loc[df['res_id'] == 18231925, 'opentable_support'] = 1\n",
        "df.loc[df['res_id'] == 113397, 'opentable_support'] = 1\n",
        "df.loc[df['res_id'] == 18578846, 'opentable_support'] = 0\n",
        "df.loc[df['res_id'] == 95453, 'opentable_support'] = 0\n",
        "df.loc[df['res_id'] == 22351, 'opentable_support'] = 1\n",
        "df.loc[df['res_id'] == 11321, 'opentable_support'] = 0\n",
        "df.loc[df['res_id'] == 18692388, 'opentable_support'] = 1\n",
        "df.loc[df['res_id'] == 18704338, 'opentable_support'] = 0\n",
        "df.loc[df['res_id'] == 18698685, 'opentable_support'] = 1\n",
        "df.loc[df['res_id'] == 18696251, 'opentable_support'] = 0\n",
        "df.loc[df['res_id'] == 18698683, 'opentable_support'] = 1\n",
        "df.loc[df['res_id'] == 18697697, 'opentable_support'] = 0\n",
        "df.loc[df['res_id'] == 18696996, 'opentable_support'] = 1\n",
        "df.loc[df['res_id'] == 18696264, 'opentable_support'] = 0\n",
        "df.loc[df['res_id'] == 18697699, 'opentable_support'] = 1\n",
        "df.loc[df['res_id'] == 18697994, 'opentable_support'] = 0\n",
        "df.loc[df['res_id'] == 18689293, 'opentable_support'] = 1\n",
        "df.loc[df['res_id'] == 19064885\t, 'opentable_support'] = 1\n",
        "df.loc[df['res_id'] == 18669473, 'opentable_support'] = 0\n",
        "df.loc[df['res_id'] == 18697337, 'opentable_support'] = 1\n",
        "\n"
      ],
      "metadata": {
        "id": "lh0jMx-Vv7u6"
      },
      "execution_count": null,
      "outputs": []
    },
    {
      "cell_type": "code",
      "source": [
        "df[df['cuisines'].isna()]"
      ],
      "metadata": {
        "id": "5N6kUclF5aya"
      },
      "execution_count": null,
      "outputs": []
    },
    {
      "cell_type": "code",
      "source": [
        "df.loc[df['res_id'] == 3401673, 'cuisines'] = \"Fast Food, Beverages\"\n",
        "df.loc[df['res_id'] == 18689668, 'cuisines'] = \"North Indian, Chinese\"\n",
        "df.loc[df['res_id'] == 19008079, 'cuisines'] = \"Sweets, Snacks\"\n",
        "df.loc[df['res_id'] == 19008131, 'cuisines'] = \"Bakery, Indian Sweets\"\n",
        "df.loc[df['res_id'] == 19008317, 'cuisines'] = \"Desserts, Indian Snacks\"\n",
        "df.loc[df['res_id'] == 18838704, 'cuisines'] = \"South Indian, Vegetarian\"\n",
        "df.loc[df['res_id'] == 18837379, 'cuisines'] = \"North Indian, South Indian\"\n",
        "df.loc[df['res_id'] == 18837387, 'cuisines'] = \"Chinese, Continental\"\n",
        "df.loc[df['res_id'] == 18797084, 'cuisines'] = \"Desserts, Beverages\"\n",
        "df.loc[df['res_id'] == 18798994, 'cuisines'] = \"Bakery, Cafe\""
      ],
      "metadata": {
        "id": "pD_ROvVjJMPt"
      },
      "execution_count": null,
      "outputs": []
    },
    {
      "cell_type": "code",
      "source": [
        "df.loc[df['res_id'] == 18885945, 'cuisines'] = \"Fast Food, North Indian\"\n",
        "df.loc[df['res_id'] == 18875407, 'cuisines'] = \"Beverages, Chinese\"\n",
        "df.loc[df['res_id'] == 18875410, 'cuisines'] = \"Street Food, Snacks\"\n",
        "df.loc[df['res_id'] == 18876327, 'cuisines'] = \"Indian, Chinese\"\n",
        "df.loc[df['res_id'] == 18875543, 'cuisines'] = \"North Indian, Mughlai\"\n",
        "df.loc[df['res_id'] == 18836120, 'cuisines'] = \"South Indian, Breakfast\"\n",
        "df.loc[df['res_id'] == 18836123, 'cuisines'] = \"South Indian, Fast Food\"\n",
        "df.loc[df['res_id'] == 18836558, 'cuisines'] = \"Indian, Continental\"\n",
        "df.loc[df['res_id'] == 18838069, 'cuisines'] = \"Idli, Dosa, South Indian\"\n",
        "df.loc[df['res_id'] == 18838699, 'cuisines'] = \"Indian, Chinese, Snacks\""
      ],
      "metadata": {
        "id": "iMz7B44DJen0"
      },
      "execution_count": null,
      "outputs": []
    },
    {
      "cell_type": "code",
      "source": [
        "df.loc[df['res_id'] == 18875433, 'cuisines'] = \"North Indian, Mughlai\"\n",
        "df.loc[df['res_id'] == 18875512, 'cuisines'] = \"Gujarati, Thali\"\n",
        "df.loc[df['res_id'] == 18875818, 'cuisines'] = \"Chinese, Bar Food\"\n",
        "df.loc[df['res_id'] == 18875546, 'cuisines'] = \"Indian, South Indian\"\n",
        "df.loc[df['res_id'] == 18875363, 'cuisines'] = \"Street Food, Fast Food\"\n",
        "df.loc[df['res_id'] == 19100733, 'cuisines'] = \"Beverages, Dairy\"\n",
        "df.loc[df['res_id'] == 19099465, 'cuisines'] = \"South Indian, Snacks\"\n",
        "df.loc[df['res_id'] == 19100728, 'cuisines'] = \"Thali, Indian\"\n",
        "df.loc[df['res_id'] == 19101814, 'cuisines'] = \"Chinese, Fast Food\"\n",
        "df.loc[df['res_id'] == 18873691, 'cuisines'] = \"Bakery, Desserts\""
      ],
      "metadata": {
        "id": "zbrciw9gOQLx"
      },
      "execution_count": null,
      "outputs": []
    },
    {
      "cell_type": "code",
      "source": [
        "df.loc[df['res_id'] == 18875556, 'cuisines'] = \"Chinese, Fast Food\"\n",
        "df.loc[df['res_id'] == 18875426, 'cuisines'] = \"North Indian, Mughlai\"\n",
        "df.loc[df['res_id'] == 18875351, 'cuisines'] = \"Gujarati, Thali\"\n",
        "df.loc[df['res_id'] == 18875482, 'cuisines'] = \"Indian, South Indian\"\n",
        "df.loc[df['res_id'] == 18875506, 'cuisines'] = \"Street Food, Snacks\"\n",
        "df.loc[df['res_id'] == 18738493, 'cuisines'] = \"Indian, Continental\"\n",
        "df.loc[df['res_id'] == 18740953, 'cuisines'] = \"Indian, Bengali\"\n",
        "df.loc[df['res_id'] == 18738557, 'cuisines'] = \"Chinese, Bar Food\"\n",
        "df.loc[df['res_id'] == 19101807, 'cuisines'] = \"Cafe, Beverages\"\n",
        "df.loc[df['res_id'] == 19100715, 'cuisines'] = \"Sweets, Desserts\""
      ],
      "metadata": {
        "id": "1AxLRmWkOjQf"
      },
      "execution_count": null,
      "outputs": []
    },
    {
      "cell_type": "code",
      "source": [
        "df.loc[df['res_id'] == 2202127, 'cuisines'] = \"North Indian, Punjabi, Dhaba Food\"\n",
        "df.loc[df['res_id'] == 2202424, 'cuisines'] = \"North Indian, Vegetarian\"\n",
        "df.loc[df['res_id'] == 2202128, 'cuisines'] = \"Punjabi, Street Food\"\n",
        "df.loc[df['res_id'] == 18806475, 'cuisines'] = \"Ice Cream, Desserts\"\n",
        "df.loc[df['res_id'] == 18806518, 'cuisines'] = \"Ice Cream, Beverages\"\n",
        "df.loc[df['res_id'] == 18738585, 'cuisines'] = \"Sweets, Snacks\"\n",
        "df.loc[df['res_id'] == 18739753, 'cuisines'] = \"Bengali, Indian\"\n",
        "df.loc[df['res_id'] == 18738499, 'cuisines'] = \"Indian, Chinese\"\n",
        "df.loc[df['res_id'] == 18739744, 'cuisines'] = \"Indian, Continental\"\n",
        "df.loc[df['res_id'] == 18738477, 'cuisines'] = \"North Indian, Mughlai\""
      ],
      "metadata": {
        "id": "azcvSWTBO3K8"
      },
      "execution_count": null,
      "outputs": []
    },
    {
      "cell_type": "code",
      "source": [
        "df.loc[df['res_id'] == 18794325, 'cuisines'] = \"Desserts, Ice Cream\"\n",
        "df.loc[df['res_id'] == 18743707, 'cuisines'] = \"Continental, Breakfast\"\n",
        "df.loc[df['res_id'] == 18743569, 'cuisines'] = \"Bar Food, Beverages\"\n",
        "df.loc[df['res_id'] == 18743731, 'cuisines'] = \"North Indian, Chinese\"\n",
        "df.loc[df['res_id'] == 18743790, 'cuisines'] = \"Bakery, Fast Food\"\n",
        "df.loc[df['res_id'] == 18738489, 'cuisines'] = \"North Indian, South Indian\"\n",
        "df.loc[df['res_id'] == 18742721, 'cuisines'] = \"Mughlai, Indian\"\n",
        "df.loc[df['res_id'] == 18738385, 'cuisines'] = \"Indian, Street Food\"\n",
        "df.loc[df['res_id'] == 18739743, 'cuisines'] = \"Chinese, Tibetan\"\n",
        "df.loc[df['res_id'] == 18738476, 'cuisines'] = \"South Indian, Snacks\""
      ],
      "metadata": {
        "id": "uOHfsdOVPJpg"
      },
      "execution_count": null,
      "outputs": []
    },
    {
      "cell_type": "code",
      "source": [
        "df.loc[df['res_id'] == 18743611, 'cuisines'] = \"Bakery, Desserts\"\n",
        "df.loc[df['res_id'] == 18742932, 'cuisines'] = \"Chinese, Tibetan\"\n",
        "df.loc[df['res_id'] == 18743136, 'cuisines'] = \"Bar Food, Beverages\"\n",
        "df.loc[df['res_id'] == 18743709, 'cuisines'] = \"Continental, Italian\"\n",
        "df.loc[df['res_id'] == 18743728, 'cuisines'] = \"North Indian, South Indian\"\n",
        "df.loc[df['res_id'] == 18739621, 'cuisines'] = \"Mughlai, Indian\"\n",
        "df.loc[df['res_id'] == 18741498, 'cuisines'] = \"Cafe, Coffee\"\n",
        "df.loc[df['res_id'] == 18739170, 'cuisines'] = \"Tea, Snacks\"\n",
        "df.loc[df['res_id'] == 18738538, 'cuisines'] = \"Sweets, Snacks\"\n",
        "df.loc[df['res_id'] == 18738888, 'cuisines'] = \"Fast Food, Street Food\""
      ],
      "metadata": {
        "id": "nrxBnn1UPaJk"
      },
      "execution_count": null,
      "outputs": []
    },
    {
      "cell_type": "code",
      "source": [
        "df.loc[df['res_id'] == 18743719, 'cuisines'] = \"North Indian, Chinese\"\n",
        "df.loc[df['res_id'] == 18743706, 'cuisines'] = \"Continental, Italian\"\n",
        "df.loc[df['res_id'] == 18743781, 'cuisines'] = \"Sweets, Snacks\"\n",
        "df.loc[df['res_id'] == 18743715, 'cuisines'] = \"Indian, Chinese\"\n",
        "df.loc[df['res_id'] == 18743051, 'cuisines'] = \"Chinese, Tibetan\"\n",
        "df.loc[df['res_id'] == 18704230, 'cuisines'] = \"Bar Food, Beverages\"\n",
        "df.loc[df['res_id'] == 19068045, 'cuisines'] = \"South Indian, North Indian\"\n",
        "df.loc[df['res_id'] == 18738584, 'cuisines'] = \"Mughlai, Indian\"\n",
        "df.loc[df['res_id'] == 18741275, 'cuisines'] = \"Fast Food, Snacks\"\n",
        "df.loc[df['res_id'] == 18739024, 'cuisines'] = \"Bar Food, Drinks\""
      ],
      "metadata": {
        "id": "ygnqNwalPtI-"
      },
      "execution_count": null,
      "outputs": []
    },
    {
      "cell_type": "code",
      "source": [
        "df.loc[df['res_id'] == 18743056, 'cuisines'] = \"Bar Food, Beverages\"\n",
        "df.loc[df['res_id'] == 18743058, 'cuisines'] = \"Fast Food, Snacks\"\n",
        "df.loc[df['res_id'] == 18743055, 'cuisines'] = \"Indian, Chinese\"\n",
        "df.loc[df['res_id'] == 18743732, 'cuisines'] = \"North Indian, South Indian\"\n",
        "df.loc[df['res_id'] == 18743609, 'cuisines'] = \"Bakery, Desserts\"\n",
        "df.loc[df['res_id'] == 18692816, 'cuisines'] = \"Fast Food, Beverages\"\n",
        "df.loc[df['res_id'] == 18692367, 'cuisines'] = \"Cafe, Continental\"\n",
        "df.loc[df['res_id'] == 19143313, 'cuisines'] = \"Mocktails, Beverages\"\n",
        "df.loc[df['res_id'] == 19154512, 'cuisines'] = \"Sweets, Snacks\"\n",
        "df.loc[df['res_id'] == 18930483, 'cuisines'] = \"BBQ, North Indian\""
      ],
      "metadata": {
        "id": "hBAt1BpkQD-_"
      },
      "execution_count": null,
      "outputs": []
    },
    {
      "cell_type": "code",
      "source": [
        "df.loc[df['res_id'] == 18743725, 'cuisines'] = \"Tibetan, Chinese\"\n",
        "df.loc[df['res_id'] == 18743135, 'cuisines'] = \"North Indian, Continental\"\n",
        "df.loc[df['res_id'] == 3502054, 'cuisines'] = \"Fast Food, Burgers\"\n",
        "df.loc[df['res_id'] == 3501899, 'cuisines'] = \"Biryani, Mughlai\"\n",
        "df.loc[df['res_id'] == 18709227, 'cuisines'] = \"Cafe, Italian\"\n",
        "df.loc[df['res_id'] == 18951345, 'cuisines'] = \"Desserts, Indian Sweets\"\n",
        "df.loc[df['res_id'] == 19045274, 'cuisines'] = \"Sweets, Bakery\"\n",
        "df.loc[df['res_id'] == 19039601, 'cuisines'] = \"Indian Sweets, Snacks\"\n",
        "df.loc[df['res_id'] == 18951361, 'cuisines'] = \"Fast Food, Rolls\"\n",
        "df.loc[df['res_id'] == 18691820, 'cuisines'] = \"South Indian, North Indian\""
      ],
      "metadata": {
        "id": "97c-UHyTQYH0"
      },
      "execution_count": null,
      "outputs": []
    },
    {
      "cell_type": "code",
      "source": [
        "df.loc[df['res_id'] == 18708659, 'cuisines'] = \"North Indian, Chinese\"\n",
        "df.loc[df['res_id'] == 18709222, 'cuisines'] = \"Cafe, Italian\"\n",
        "df.loc[df['res_id'] == 18708963, 'cuisines'] = \"Coffee, Bakery\"\n",
        "df.loc[df['res_id'] == 18709225, 'cuisines'] = \"Continental, Cafe\"\n",
        "df.loc[df['res_id'] == 18709181, 'cuisines'] = \"Goan, Cafe\"\n",
        "df.loc[df['res_id'] == 19009110, 'cuisines'] = \"Indian, Snacks\"\n",
        "df.loc[df['res_id'] == 19009654, 'cuisines'] = \"Sweets, Snacks\"\n",
        "df.loc[df['res_id'] == 18996753, 'cuisines'] = \"Sweets, Indian Sweets\"\n",
        "df.loc[df['res_id'] == 19008775, 'cuisines'] = \"Fast Food, North Indian\"\n",
        "df.loc[df['res_id'] == 2701168, 'cuisines'] = \"Biryani, Mughlai\""
      ],
      "metadata": {
        "id": "Ln0QuZeIQx5H"
      },
      "execution_count": null,
      "outputs": []
    },
    {
      "cell_type": "code",
      "source": [
        "df.loc[df['res_id'] == 18708974, 'cuisines'] = \"North Indian, Punjabi\"\n",
        "df.loc[df['res_id'] == 18708602, 'cuisines'] = \"Café, Beverages\"\n",
        "df.loc[df['res_id'] == 16500336, 'cuisines'] = \"Multi-Cuisine, Chinese\"\n",
        "df.loc[df['res_id'] == 18746688, 'cuisines'] = \"Bar, Continental\"\n",
        "df.loc[df['res_id'] == 16500331, 'cuisines'] = \"Sweets, Snacks\"\n",
        "df.loc[df['res_id'] == 19009052, 'cuisines'] = \"Bakery, Chaat\"\n",
        "df.loc[df['res_id'] == 19009091, 'cuisines'] = \"Street Food, Fast Food\"\n",
        "df.loc[df['res_id'] == 19009130, 'cuisines'] = \"Bihari, North Indian\"\n",
        "df.loc[df['res_id'] == 18690123, 'cuisines'] = \"Continental, Italian\"\n",
        "df.loc[df['res_id'] == 19009105, 'cuisines'] = \"Fast Food, Snacks\""
      ],
      "metadata": {
        "id": "r-bYzni4RZR4"
      },
      "execution_count": null,
      "outputs": []
    },
    {
      "cell_type": "code",
      "source": [
        "df.loc[df['res_id'] == 16500306, 'cuisines'] = \"Italian, Continental, Cafe\"\n",
        "df.loc[df['res_id'] == 18746079, 'cuisines'] = \"Chinese, Tibetan, Indian, Bar\"\n",
        "df.loc[df['res_id'] == 18746111, 'cuisines'] = \"Finger Food, Chinese, Indian\"\n",
        "df.loc[df['res_id'] == 18746149, 'cuisines'] = \"Tibetan, Chinese, Bar\"\n",
        "df.loc[df['res_id'] == 16500327, 'cuisines'] = \"Multi-cuisine, Chinese, Bar\"\n",
        "df.loc[df['res_id'] == 18859894, 'cuisines'] = \"North Indian, Fast Food\"\n",
        "df.loc[df['res_id'] == 18860238, 'cuisines'] = \"Bakery, Fast Food, Snacks\"\n",
        "df.loc[df['res_id'] == 18860127, 'cuisines'] = \"North Indian, Chinese, Tandoori\"\n",
        "df.loc[df['res_id'] == 18859666, 'cuisines'] = \"Punjabi, North Indian, Dhaba Food\"\n",
        "df.loc[df['res_id'] == 18862023, 'cuisines'] = \"North Indian, Dhaba, Tandoori\""
      ],
      "metadata": {
        "id": "Knfh0HOhhFXp"
      },
      "execution_count": null,
      "outputs": []
    },
    {
      "cell_type": "code",
      "source": [
        "df.loc[df['res_id'] == 16500334, 'cuisines'] = \"Mughlai, North Indian, Kebabs\"\n",
        "df.loc[df['res_id'] == 16500317, 'cuisines'] = \"Bar, Continental, Snacks\"\n",
        "df.loc[df['res_id'] == 18746367, 'cuisines'] = \"North Indian, Chinese, Tandoori\"\n",
        "df.loc[df['res_id'] == 18746639, 'cuisines'] = \"Bar, Chinese, Indian, Cocktails\"\n",
        "df.loc[df['res_id'] == 16500315, 'cuisines'] = \"Tibetan, Continental, Cafe\"\n",
        "df.loc[df['res_id'] == 18860006, 'cuisines'] = \"North Indian, Tandoori, Bar\"\n",
        "df.loc[df['res_id'] == 18859662, 'cuisines'] = \"Fast Food, Burgers, Sandwiches\"\n",
        "df.loc[df['res_id'] == 18860000, 'cuisines'] = \"Punjabi, Dhaba, North Indian\"\n",
        "df.loc[df['res_id'] == 18860002, 'cuisines'] = \"Mughlai, Biryani, Indian\"\n",
        "df.loc[df['res_id'] == 18860125, 'cuisines'] = \"North Indian, Dhaba, Tandoori\""
      ],
      "metadata": {
        "id": "_SesbQWUhvOO"
      },
      "execution_count": null,
      "outputs": []
    },
    {
      "cell_type": "code",
      "source": [
        "df.loc[df['res_id'] == 18746686, 'cuisines'] = \"Bar, Continental, Chinese\"\n",
        "df.loc[df['res_id'] == 18746324, 'cuisines'] = \"North Indian, Mughlai, Bar\"\n",
        "df.loc[df['res_id'] == 18746027, 'cuisines'] = \"Bar, Indian, Fast Food\"\n",
        "df.loc[df['res_id'] == 18712775, 'cuisines'] = \"Sweets, Snacks, Street Food\"\n",
        "df.loc[df['res_id'] == 19033234, 'cuisines'] = \"Bhojanalaya, North Indian\"\n",
        "df.loc[df['res_id'] == 18860123, 'cuisines'] = \"Frozen Food, Desserts\"\n",
        "df.loc[df['res_id'] == 18860129, 'cuisines'] = \"Punjabi, Kulcha, Street Food\"\n",
        "df.loc[df['res_id'] == 18859793, 'cuisines'] = \"Fast Food, Chinese, Snacks\"\n",
        "df.loc[df['res_id'] == 18860114, 'cuisines'] = \"Egg Dishes, Fast Food\"\n",
        "df.loc[df['res_id'] == 18859795, 'cuisines'] = \"Fast Food, Continental, Indian\""
      ],
      "metadata": {
        "id": "S7UwcMW2iEek"
      },
      "execution_count": null,
      "outputs": []
    },
    {
      "cell_type": "code",
      "source": [
        "df.loc[df['res_id'] == 18796869, 'cuisines'] = \"Fast Food, Rolls\"\n",
        "df.loc[df['res_id'] == 18741585, 'cuisines'] = \"North Indian, Chinese\"\n",
        "df.loc[df['res_id'] == 19062854, 'cuisines'] = \"Poha, Beverages\"\n",
        "df.loc[df['res_id'] == 19009098, 'cuisines'] = \"Fast Food, Snacks\"\n",
        "df.loc[df['res_id'] == 19009112, 'cuisines'] = \"Chinese, Fast Food\"\n",
        "df.loc[df['res_id'] == 18971212, 'cuisines'] = \"South Indian, Indian\"\n",
        "df.loc[df['res_id'] == 18701864, 'cuisines'] = \"Bakery, Desserts\"\n",
        "df.loc[df['res_id'] == 18701983, 'cuisines'] = \"Indian, Spicy Dishes\"\n",
        "df.loc[df['res_id'] == 18918739, 'cuisines'] = \"Juices, Beverages\"\n",
        "df.loc[df['res_id'] == 18841286, 'cuisines'] = \"Punjabi, North Indian\""
      ],
      "metadata": {
        "id": "DyKaDFBaiwr9"
      },
      "execution_count": null,
      "outputs": []
    },
    {
      "cell_type": "code",
      "source": [
        "df.loc[df['res_id'] == 19020842, 'cuisines'] = \"Desserts, Faluda\"\n",
        "df.loc[df['res_id'] == 19066400, 'cuisines'] = \"Fast Food, Rice Dishes\"\n",
        "df.loc[df['res_id'] == 19044511, 'cuisines'] = \"North Indian, Snacks\"\n",
        "df.loc[df['res_id'] == 19033151, 'cuisines'] = \"Chicken, Fast Food\"\n",
        "df.loc[df['res_id'] == 18738651, 'cuisines'] = \"Thali, Indian\"\n",
        "df.loc[df['res_id'] == 18847944, 'cuisines'] = \"Cafe, Beverages\"\n",
        "df.loc[df['res_id'] == 18848093, 'cuisines'] = \"Fast Food, Snacks\"\n",
        "df.loc[df['res_id'] == 18848233, 'cuisines'] = \"Chinese, North Indian\"\n",
        "df.loc[df['res_id'] == 18847543, 'cuisines'] = \"South Indian, Punjabi\"\n",
        "df.loc[df['res_id'] == 18793307, 'cuisines'] = \"Beverages, Quick Bites\""
      ],
      "metadata": {
        "id": "REe36lKCjTpS"
      },
      "execution_count": null,
      "outputs": []
    },
    {
      "cell_type": "code",
      "source": [
        "df.loc[df['res_id'] == 18740099, 'cuisines'] = \"Bar, North Indian\"\n",
        "df.loc[df['res_id'] == 19009309, 'cuisines'] = \"Bakery, Desserts\"\n",
        "df.loc[df['res_id'] == 19009201, 'cuisines'] = \"Sweets, Snacks\"\n",
        "df.loc[df['res_id'] == 19060294, 'cuisines'] = \"Beverages, Juices\"\n",
        "df.loc[df['res_id'] == 19060274, 'cuisines'] = \"North Indian, Fast Food\"\n",
        "df.loc[df['res_id'] == 18847376, 'cuisines'] = \"Indian, Family Dining\"\n",
        "df.loc[df['res_id'] == 18847541, 'cuisines'] = \"Regional, Kumaoni Cuisine\"\n",
        "df.loc[df['res_id'] == 18847769, 'cuisines'] = \"Multi-Cuisine, Continental\"\n",
        "df.loc[df['res_id'] == 18847825, 'cuisines'] = \"Fine Dining, Indian\"\n",
        "df.loc[df['res_id'] == 18847886, 'cuisines'] = \"Casual Dining, Chinese\""
      ],
      "metadata": {
        "id": "lmBfeYLijzZX"
      },
      "execution_count": null,
      "outputs": []
    },
    {
      "cell_type": "code",
      "source": [
        "df.loc[df['res_id'] == 18739138, 'cuisines'] = \"North Indian, Chinese\"\n",
        "df.loc[df['res_id'] == 19060516, 'cuisines'] = \"Bakery, Desserts\"\n",
        "df.loc[df['res_id'] == 19009439, 'cuisines'] = \"Chinese, Fast Food\"\n",
        "df.loc[df['res_id'] == 19009189, 'cuisines'] = \"Sweets, Snacks\"\n",
        "df.loc[df['res_id'] == 18890310, 'cuisines'] = \"Sweets, Indian Mithai\"\n",
        "df.loc[df['res_id'] == 18847618, 'cuisines'] = \"North Indian, South Indian\"\n",
        "df.loc[df['res_id'] == 18847766, 'cuisines'] = \"Indian, Kumaoni Cuisine\"\n",
        "df.loc[df['res_id'] == 18847822, 'cuisines'] = \"Regional, Tandoori\"\n",
        "df.loc[df['res_id'] == 18847938, 'cuisines'] = \"Multi-Cuisine, Home Style\"\n",
        "df.loc[df['res_id'] == 18847991, 'cuisines'] = \"Fine Dining, Continental\"\n"
      ],
      "metadata": {
        "id": "nCtvW8hqkI0J"
      },
      "execution_count": null,
      "outputs": []
    },
    {
      "cell_type": "code",
      "source": [
        "df.loc[df['res_id'] == 1401486, 'cuisines'] = \"Desserts, Ice Cream\"\n",
        "df.loc[df['res_id'] == 18745808, 'cuisines'] = \"North Indian, Punjabi\"\n",
        "df.loc[df['res_id'] == 18745531, 'cuisines'] = \"Indian, Mughlai\"\n",
        "df.loc[df['res_id'] == 18860688, 'cuisines'] = \"Biryani, Mughlai\"\n",
        "df.loc[df['res_id'] == 18859868, 'cuisines'] = \"Biryani, North Indian\"\n",
        "df.loc[df['res_id'] == 18847990, 'cuisines'] = \"North Indian, Chinese\"\n",
        "df.loc[df['res_id'] == 18848143, 'cuisines'] = \"Indian, Chinese\"\n",
        "df.loc[df['res_id'] == 18847627, 'cuisines'] = \"Pure Vegetarian, South Indian\"\n",
        "df.loc[df['res_id'] == 18847699, 'cuisines'] = \"Multi-Cuisine, Continental\"\n",
        "df.loc[df['res_id'] == 18848402, 'cuisines'] = \"Kumaoni, Indian\""
      ],
      "metadata": {
        "id": "1RmaRJGUkfAy"
      },
      "execution_count": null,
      "outputs": []
    },
    {
      "cell_type": "code",
      "source": [
        "df.loc[df['res_id'] == 18860104, 'cuisines'] = \"Barbecue, North Indian\"\n",
        "df.loc[df['res_id'] == 18860526, 'cuisines'] = \"Chinese, Asian\"\n",
        "df.loc[df['res_id'] == 18859984, 'cuisines'] = \"North Indian, Mughlai\"\n",
        "df.loc[df['res_id'] == 18860232, 'cuisines'] = \"Desserts, Bakery\"\n",
        "df.loc[df['res_id'] == 18859775, 'cuisines'] = \"Fast Food, Indian\"\n",
        "df.loc[df['res_id'] == 18847621, 'cuisines'] = \"Multi-Cuisine, North Indian\"\n",
        "df.loc[df['res_id'] == 18847827, 'cuisines'] = \"Sweets, Snacks\"\n",
        "df.loc[df['res_id'] == 18848089, 'cuisines'] = \"Fast Food, North Indian\"\n",
        "df.loc[df['res_id'] == 18848141, 'cuisines'] = \"Indian, North Indian\"\n",
        "df.loc[df['res_id'] == 18848457, 'cuisines'] = \"South Indian, Fast Food\""
      ],
      "metadata": {
        "id": "eSFZ1NMKk6NB"
      },
      "execution_count": null,
      "outputs": []
    },
    {
      "cell_type": "code",
      "source": [
        "df.loc[df['res_id'] == 18860327, 'cuisines'] = \"Chinese, Thai\"\n",
        "df.loc[df['res_id'] == 18860684, 'cuisines'] = \"Street Food, Indian\"\n",
        "df.loc[df['res_id'] == 18859882, 'cuisines'] = \"North Indian, Mughlai\"\n",
        "df.loc[df['res_id'] == 18860339, 'cuisines'] = \"Punjabi, Fast Food\"\n",
        "df.loc[df['res_id'] == 18859880, 'cuisines'] = \"North Indian, Chinese\"\n",
        "df.loc[df['res_id'] == 18847820, 'cuisines'] = \"Multi-Cuisine, Continental\"\n",
        "df.loc[df['res_id'] == 18848229, 'cuisines'] = \"Tea, Snacks\"\n",
        "df.loc[df['res_id'] == 18848454, 'cuisines'] = \"Indian, Fast Food\"\n",
        "df.loc[df['res_id'] == 18847696, 'cuisines'] = \"Riverside Dining, Multi-Cuisine\"\n",
        "df.loc[df['res_id'] == 18847700, 'cuisines'] = \"Vegetarian, North Indian\""
      ],
      "metadata": {
        "id": "26hF0IPhlTcX"
      },
      "execution_count": null,
      "outputs": []
    },
    {
      "cell_type": "code",
      "source": [
        "df.loc[df['res_id'] == 18859783, 'cuisines'] = \"South Indian, Chinese\"\n",
        "df.loc[df['res_id'] == 18859976, 'cuisines'] = \"North Indian, Mughlai\"\n",
        "df.loc[df['res_id'] == 18860323, 'cuisines'] = \"Bhojanalaya, Indian\"\n",
        "df.loc[df['res_id'] == 18860522, 'cuisines'] = \"Chinese, Momos\"\n",
        "df.loc[df['res_id'] == 18703282, 'cuisines'] = \"Bar, Lounge\"\n",
        "df.loc[df['res_id'] == 18848039, 'cuisines'] = \"Multi-Cuisine, North Indian\"\n",
        "df.loc[df['res_id'] == 18848205, 'cuisines'] = \"North Indian, Mughlai\"\n",
        "df.loc[df['res_id'] == 18847881, 'cuisines'] = \"Fine Dining, Continental\"\n",
        "df.loc[df['res_id'] == 18847885, 'cuisines'] = \"Tea, Snacks\"\n",
        "df.loc[df['res_id'] == 18847768, 'cuisines'] = \"Vegetarian, Indian\""
      ],
      "metadata": {
        "id": "Yttmm0U0lm7-"
      },
      "execution_count": null,
      "outputs": []
    },
    {
      "cell_type": "code",
      "source": [
        "df.loc[df['res_id'] == 18901742, 'cuisines'] = \"Tea, Snacks\"\n",
        "df.loc[df['res_id'] == 19019987, 'cuisines'] = \"Pizza, Fast Food\"\n",
        "df.loc[df['res_id'] == 18831071, 'cuisines'] = \"Indian, Chicken Dishes\"\n",
        "df.loc[df['res_id'] == 18827275, 'cuisines'] = \"South Indian, Dosa\"\n",
        "df.loc[df['res_id'] == 18828774, 'cuisines'] = \"North Indian, Punjabi\"\n",
        "df.loc[df['res_id'] == 18847548, 'cuisines'] = \"Multi-Cuisine, Indian\"\n",
        "df.loc[df['res_id'] == 18848405, 'cuisines'] = \"Momos, Chinese\"\n",
        "df.loc[df['res_id'] == 18847461, 'cuisines'] = \"Indian, Continental\"\n",
        "df.loc[df['res_id'] == 18848038, 'cuisines'] = \"Fast Food, Maggi\"\n",
        "df.loc[df['res_id'] == 18848047, 'cuisines'] = \"Indian, Beverages\""
      ],
      "metadata": {
        "id": "HWfAMGn3l-1X"
      },
      "execution_count": null,
      "outputs": []
    },
    {
      "cell_type": "code",
      "source": [
        "df.loc[df['res_id'] == 18827543, 'cuisines'] = \"North Indian, Fast Food\"\n",
        "df.loc[df['res_id'] == 18831389, 'cuisines'] = \"Rajasthani, Indian\"\n",
        "df.loc[df['res_id'] == 18831225, 'cuisines'] = \"Biryani, Mughlai\"\n",
        "df.loc[df['res_id'] == 18828531, 'cuisines'] = \"Gujarati, Indian\"\n",
        "df.loc[df['res_id'] == 18829896, 'cuisines'] = \"South Indian, Fast Food\"\n",
        "df.loc[df['res_id'] == 18847622, 'cuisines'] = \"Continental, Bakery\"\n",
        "df.loc[df['res_id'] == 18847623, 'cuisines'] = \"Indian, Chinese\"\n",
        "df.loc[df['res_id'] == 18847383, 'cuisines'] = \"Multi-Cuisine, Indian\"\n",
        "df.loc[df['res_id'] == 18847377, 'cuisines'] = \"European, Cafe\"\n",
        "df.loc[df['res_id'] == 18848240, 'cuisines'] = \"Italian, Indian\""
      ],
      "metadata": {
        "id": "lN8-Q9OhmR0T"
      },
      "execution_count": null,
      "outputs": []
    },
    {
      "cell_type": "code",
      "source": [
        "df.loc[df['res_id'] == 18826721, 'cuisines'] = \"North Indian, Chinese\"\n",
        "df.loc[df['res_id'] == 18829898, 'cuisines'] = \"Street Food, Fast Food\"\n",
        "df.loc[df['res_id'] == 18829480, 'cuisines'] = \"Gujarati, Rajasthani\"\n",
        "df.loc[df['res_id'] == 18826997, 'cuisines'] = \"Continental, Italian\"\n",
        "df.loc[df['res_id'] == 18829012, 'cuisines'] = \"South Indian, Fast Food\"\n",
        "df.loc[df['res_id'] == 18848228, 'cuisines'] = \"Cafe, American\"\n",
        "df.loc[df['res_id'] == 18847550, 'cuisines'] = \"Indian, Mughlai\"\n",
        "df.loc[df['res_id'] == 18847828, 'cuisines'] = \"Bar, Beverages\"\n",
        "df.loc[df['res_id'] == 18847625, 'cuisines'] = \"Punjabi, Tandoori\"\n",
        "df.loc[df['res_id'] == 18847992, 'cuisines'] = \"Indian, Chinese\""
      ],
      "metadata": {
        "id": "xcctzAOfmjxd"
      },
      "execution_count": null,
      "outputs": []
    },
    {
      "cell_type": "code",
      "source": [
        "df.loc[df['res_id'] == 18828047, 'cuisines'] = \"Indian, Fast Food\"\n",
        "df.loc[df['res_id'] == 18828292, 'cuisines'] = \"Gujarati, Rajasthani\"\n",
        "df.loc[df['res_id'] == 18828534, 'cuisines'] = \"South Indian, Street Food\"\n",
        "df.loc[df['res_id'] == 18829260, 'cuisines'] = \"Mughlai, North Indian\"\n",
        "df.loc[df['res_id'] == 18829900, 'cuisines'] = \"Street Food, Snacks\"\n",
        "df.loc[df['res_id'] == 18847549, 'cuisines'] = \"Continental, Italian\"\n",
        "df.loc[df['res_id'] == 18848438, 'cuisines'] = \"Asian, Chinese\"\n",
        "df.loc[df['res_id'] == 18847937, 'cuisines'] = \"Pure Veg, Thali\"\n",
        "df.loc[df['res_id'] == 18847763, 'cuisines'] = \"Punjabi, North Indian\"\n",
        "df.loc[df['res_id'] == 18848096, 'cuisines'] = \"Multi-Cuisine, Beverages\""
      ],
      "metadata": {
        "id": "UR9VtYaBm4PP"
      },
      "execution_count": null,
      "outputs": []
    },
    {
      "cell_type": "code",
      "source": [
        "df.loc[df['res_id'] == 18826136, 'cuisines'] = \"North Indian, Chinese\"\n",
        "df.loc[df['res_id'] == 18828532, 'cuisines'] = \"South Indian, Fast Food\"\n",
        "df.loc[df['res_id'] == 18828535, 'cuisines'] = \"Mughlai, BBQ\"\n",
        "df.loc[df['res_id'] == 18829902, 'cuisines'] = \"Italian, Desserts\"\n",
        "df.loc[df['res_id'] == 18830254, 'cuisines'] = \"Street Food, Snacks\"\n",
        "df.loc[df['res_id'] == 18736107, 'cuisines'] = \"Continental, Bakery\"\n",
        "df.loc[df['res_id'] == 18736129, 'cuisines'] = \"Mexican, Thai\"\n",
        "df.loc[df['res_id'] == 18848144, 'cuisines'] = \"Japanese, Seafood\"\n",
        "df.loc[df['res_id'] == 18847457, 'cuisines'] = \"Fast Food, Burgers\"\n",
        "df.loc[df['res_id'] == 18848148, 'cuisines'] = \"Lebanese, Turkish\"\n"
      ],
      "metadata": {
        "id": "CoS9cWg5y_up"
      },
      "execution_count": null,
      "outputs": []
    },
    {
      "cell_type": "code",
      "source": [
        "df.loc[df['res_id'] == 18830258, 'cuisines'] = \"South Indian, Snacks\"\n",
        "df.loc[df['res_id'] == 18830077, 'cuisines'] = \"North Indian, Banarasi Special\"\n",
        "df.loc[df['res_id'] == 18829255, 'cuisines'] = \"Paratha, Indian Street Food\"\n",
        "df.loc[df['res_id'] == 18830255, 'cuisines'] = \"Chinese, Fast Food\"\n",
        "df.loc[df['res_id'] == 18830909, 'cuisines'] = \"Multi-Cuisine, Indian\"\n",
        "df.loc[df['res_id'] == 18848046, 'cuisines'] = \"Mughlai, Tandoori\"\n",
        "df.loc[df['res_id'] == 18847378, 'cuisines'] = \"Continental, BBQ\"\n",
        "df.loc[df['res_id'] == 18847544, 'cuisines'] = \"Kebabs, Grilled Dishes\"\n",
        "df.loc[df['res_id'] == 18848208, 'cuisines'] = \"Fine Dining, International\"\n",
        "df.loc[df['res_id'] == 18847384, 'cuisines'] = \"Punjabi, Dhaba Style\""
      ],
      "metadata": {
        "id": "RrpWZxEezOOY"
      },
      "execution_count": null,
      "outputs": []
    },
    {
      "cell_type": "code",
      "source": [
        "df.loc[df['res_id'] == 18830433, 'cuisines'] = \"Gujarati, North Indian\"\n",
        "df.loc[df['res_id'] == 18826438, 'cuisines'] = \"Pure Veg, South Indian\"\n",
        "df.loc[df['res_id'] == 18829694, 'cuisines'] = \"Rajputana, Rajasthani\"\n",
        "df.loc[df['res_id'] == 18828775, 'cuisines'] = \"Indian, Multi-Cuisine\"\n",
        "df.loc[df['res_id'] == 18830911, 'cuisines'] = \"Dosa, South Indian\"\n",
        "df.loc[df['res_id'] == 18847619, 'cuisines'] = \"Mughlai, Kababs\"\n",
        "df.loc[df['res_id'] == 18848087, 'cuisines'] = \"Chinese, Asian\"\n",
        "df.loc[df['res_id'] == 18847382, 'cuisines'] = \"Himalayan, Organic\"\n",
        "df.loc[df['res_id'] == 18847455, 'cuisines'] = \"North Indian, Fast Food\"\n",
        "df.loc[df['res_id'] == 18847379, 'cuisines'] = \"Punjabi, Dhaba Style\""
      ],
      "metadata": {
        "id": "YFuMntuBzcGU"
      },
      "execution_count": null,
      "outputs": []
    },
    {
      "cell_type": "code",
      "source": [
        "df.loc[df['res_id'] == 18831229, 'cuisines'] = \"Gujarati, Rajasthani\"\n",
        "df.loc[df['res_id'] == 18831394, 'cuisines'] = \"North Indian, Fast Food\"\n",
        "df.loc[df['res_id'] == 18830912, 'cuisines'] = \"Snacks, Street Food\"\n",
        "df.loc[df['res_id'] == 18827806, 'cuisines'] = \"Burgers, Quick Bites\"\n",
        "df.loc[df['res_id'] == 18827280, 'cuisines'] = \"South Indian, Vegetarian\"\n",
        "df.loc[df['res_id'] == 18701849, 'cuisines'] = \"Indian, Continental\"\n",
        "df.loc[df['res_id'] == 18847385, 'cuisines'] = \"Punjabi, North Indian\"\n",
        "df.loc[df['res_id'] == 18848085, 'cuisines'] = \"Mughlai, Punjabi\"\n",
        "df.loc[df['res_id'] == 18847460, 'cuisines'] = \"Multi-Cuisine, Fast Food\"\n",
        "df.loc[df['res_id'] == 18847459, 'cuisines'] = \"Indian, Tandoori\""
      ],
      "metadata": {
        "id": "uyg2EF7Czs8W"
      },
      "execution_count": null,
      "outputs": []
    },
    {
      "cell_type": "code",
      "source": [
        "df.loc[df['res_id'] == 18827541, 'cuisines'] = \"Fast Food, Street Food\"\n",
        "df.loc[df['res_id'] == 18827544, 'cuisines'] = \"North Indian, Mughlai\"\n",
        "df.loc[df['res_id'] == 18828294, 'cuisines'] = \"Gujarati, Rajasthani\"\n",
        "df.loc[df['res_id'] == 18826999, 'cuisines'] = \"South Indian, Vegetarian\"\n",
        "df.loc[df['res_id'] == 18826998, 'cuisines'] = \"Chinese, Continental\"\n",
        "df.loc[df['res_id'] == 18705380, 'cuisines'] = \"Italian, Mexican\"\n",
        "df.loc[df['res_id'] == 18998597, 'cuisines'] = \"Healthy, Salads, Smoothies\"\n",
        "df.loc[df['res_id'] == 18732012, 'cuisines'] = \"Bakery, Desserts\"\n",
        "df.loc[df['res_id'] == 18733104, 'cuisines'] = \"Pizza, Fast Food\"\n",
        "df.loc[df['res_id'] == 19034128, 'cuisines'] = \"Café, Beverages\""
      ],
      "metadata": {
        "id": "9PBE9XVNz81V"
      },
      "execution_count": null,
      "outputs": []
    },
    {
      "cell_type": "code",
      "source": [
        "df.loc[df['res_id'] == 18830073, 'cuisines'] = \"Fast Food, North Indian\"\n",
        "df.loc[df['res_id'] == 18828776, 'cuisines'] = \"South Indian, Vegetarian\"\n",
        "df.loc[df['res_id'] == 18829476, 'cuisines'] = \"Gujarati, Rajasthani\"\n",
        "df.loc[df['res_id'] == 18829897, 'cuisines'] = \"Chinese, Continental\"\n",
        "df.loc[df['res_id'] == 18829901, 'cuisines'] = \"Punjabi, Mughlai\"\n",
        "df.loc[df['res_id'] == 18689963, 'cuisines'] = \"Juices, Beverages\"\n",
        "df.loc[df['res_id'] == 18689285, 'cuisines'] = \"Desserts, Sweets\"\n",
        "df.loc[df['res_id'] == 18790522, 'cuisines'] = \"South Indian, Tandoori\"\n",
        "df.loc[df['res_id'] == 18790543, 'cuisines'] = \"Street Food, Snacks\"\n",
        "df.loc[df['res_id'] == 18790561, 'cuisines'] = \"Home-style Food, Indian\""
      ],
      "metadata": {
        "id": "ZqX5k02C0NLD"
      },
      "execution_count": null,
      "outputs": []
    },
    {
      "cell_type": "code",
      "source": [
        "df.loc[df['res_id'] == 18830071, 'cuisines'] = \"Gujarati, North Indian\"\n",
        "df.loc[df['res_id'] == 18830256, 'cuisines'] = \"Fast Food, Ice Cream\"\n",
        "df.loc[df['res_id'] == 19015685, 'cuisines'] = \"Sweets, Snacks\"\n",
        "df.loc[df['res_id'] == 18739320, 'cuisines'] = \"Chinese, Fast Food\"\n",
        "df.loc[df['res_id'] == 18743318, 'cuisines'] = \"Cafe, Continental\"\n",
        "df.loc[df['res_id'] == 19083144, 'cuisines'] = \"Bakery, Desserts\"\n",
        "df.loc[df['res_id'] == 18981489, 'cuisines'] = \"Coffee, Beverages\"\n",
        "df.loc[df['res_id'] == 19009362, 'cuisines'] = \"Arabian, Fast Food\"\n",
        "df.loc[df['res_id'] == 18684406, 'cuisines'] = \"Street Food, Maharashtrian\"\n",
        "df.loc[df['res_id'] == 18689230, 'cuisines'] = \"Lounge, Bar\""
      ],
      "metadata": {
        "id": "mUZmKGZq0cav"
      },
      "execution_count": null,
      "outputs": []
    },
    {
      "cell_type": "code",
      "source": [
        "df.loc[df['res_id'] == 18743238, 'cuisines'] = \"Fast Food, North Indian\"\n",
        "df.loc[df['res_id'] == 18743043, 'cuisines'] = \"Biryani, Mughlai\"\n",
        "df.loc[df['res_id'] == 18695307, 'cuisines'] = \"Lounge, Continental\"\n",
        "df.loc[df['res_id'] == 18826463, 'cuisines'] = \"Gujarati, North Indian\"\n",
        "df.loc[df['res_id'] == 18828792, 'cuisines'] = \"Street Food, Chaat\"\n",
        "df.loc[df['res_id'] == 18930961, 'cuisines'] = \"Sandwiches, Fast Food\"\n",
        "df.loc[df['res_id'] == 18979154, 'cuisines'] = \"Bakery, Desserts\"\n",
        "df.loc[df['res_id'] == 18936259, 'cuisines'] = \"Cafe, Beverages\"\n",
        "df.loc[df['res_id'] == 18814648, 'cuisines'] = \"Punjabi, North Indian\"\n",
        "df.loc[df['res_id'] == 19085479, 'cuisines'] = \"Pizza, Cafe\""
      ],
      "metadata": {
        "id": "QbYAr3In0ujz"
      },
      "execution_count": null,
      "outputs": []
    },
    {
      "cell_type": "code",
      "source": [
        "df.loc[df['res_id'] == 18828552, 'cuisines'] = \"North Indian, Paratha\"\n",
        "df.loc[df['res_id'] == 18826745, 'cuisines'] = \"Gujarati, Fast Food\"\n",
        "df.loc[df['res_id'] == 18831692, 'cuisines'] = \"South Indian, Snacks\"\n",
        "df.loc[df['res_id'] == 18867433, 'cuisines'] = \"Fast Food, Sandwiches\"\n",
        "df.loc[df['res_id'] == 18933961, 'cuisines'] = \"Ice Cream, Beverages\"\n",
        "df.loc[df['res_id'] == 18978471, 'cuisines'] = \"Multi-Cuisine, Beverages\""
      ],
      "metadata": {
        "id": "Qp99ifVa1Ju8"
      },
      "execution_count": null,
      "outputs": []
    },
    {
      "cell_type": "code",
      "source": [
        "df.loc[df['res_id'] == 18830096, 'cuisines'] = \"South Indian, Fast Food\"\n",
        "df.loc[df['res_id'] == 18826740, 'cuisines'] = \"Multi-Cuisine, Indian\"\n",
        "df.loc[df['res_id'] == 18827567, 'cuisines'] = \"Gujarati, North Indian\""
      ],
      "metadata": {
        "id": "AOyY6fWc1aVw"
      },
      "execution_count": null,
      "outputs": []
    },
    {
      "cell_type": "code",
      "source": [
        "df.loc[df['res_id'] == 18826741, 'cuisines'] = \"Gujarati, North Indian\"\n",
        "df.loc[df['res_id'] == 18827014, 'cuisines'] = \"South Indian, Chinese\"\n",
        "df.loc[df['res_id'] == 18828070, 'cuisines'] = \"Fast Food, Indian\""
      ],
      "metadata": {
        "id": "MiW_iNFH1nSS"
      },
      "execution_count": null,
      "outputs": []
    },
    {
      "cell_type": "code",
      "source": [
        "df.loc[df['res_id'] == 18828553, 'cuisines'] = \"Fast Food, Indian\"\n",
        "df.loc[df['res_id'] == 18826742, 'cuisines'] = \"Gujarati, North Indian\"\n",
        "df.loc[df['res_id'] == 18830451, 'cuisines'] = \"Chinese, Chicken Dishes\""
      ],
      "metadata": {
        "id": "qVHgqoqX11T0"
      },
      "execution_count": null,
      "outputs": []
    },
    {
      "cell_type": "code",
      "source": [
        "df.loc[df['res_id'] == 18828072, 'cuisines'] = \"Rajasthani, North Indian\"\n",
        "df.loc[df['res_id'] == 18829037, 'cuisines'] = \"Paratha, North Indian\"\n",
        "df.loc[df['res_id'] == 18829921, 'cuisines'] = \"Mughlai, Indian\""
      ],
      "metadata": {
        "id": "zpZNZNxm2HqU"
      },
      "execution_count": null,
      "outputs": []
    },
    {
      "cell_type": "code",
      "source": [
        "df.loc[df['res_id'] == 18725005, 'cuisines'] = \"North Indian, Mughlai\"\n",
        "df.loc[df['res_id'] == 18725012, 'cuisines'] = \"South Indian, Fast Food\"\n",
        "df.loc[df['res_id'] == 18830609, 'cuisines'] = \"Chinese, Punjabi\"\n",
        "df.loc[df['res_id'] == 18830613, 'cuisines'] = \"North Indian, Chinese\"\n",
        "df.loc[df['res_id'] == 18831691, 'cuisines'] = \"Dhaba, Indian\""
      ],
      "metadata": {
        "id": "v_4q0dHXY4xn"
      },
      "execution_count": null,
      "outputs": []
    },
    {
      "cell_type": "code",
      "source": [
        "df.loc[df['res_id'] == 18830934, 'cuisines'] = \"Gujarati, Vegetarian\"\n",
        "df.loc[df['res_id'] == 18831693, 'cuisines'] = \"Street Food, Fast Food\"\n",
        "df.loc[df['res_id'] == 18831819, 'cuisines'] = \"Pav Bhaji, Chinese\"\n",
        "df.loc[df['res_id'] == 18832480, 'cuisines'] = \"Indian, Snacks\"\n",
        "df.loc[df['res_id'] == 18832715, 'cuisines'] = \"North Indian, Punjabi\"\n",
        "df.loc[df['res_id'] == 18735083, 'cuisines'] = \"Bengali, Seafood\"\n",
        "df.loc[df['res_id'] == 18735079, 'cuisines'] = \"South Indian, Breakfast\""
      ],
      "metadata": {
        "id": "14A4wBsrZScb"
      },
      "execution_count": null,
      "outputs": []
    },
    {
      "cell_type": "code",
      "source": [
        "df.loc[df['res_id'] == 19129066, 'cuisines'] = \"Sweets, Dairy Products\"\n",
        "df.loc[df['res_id'] == 18826461, 'cuisines'] = \"Pizza, Italian\"\n",
        "df.loc[df['res_id'] == 18826156, 'cuisines'] = \"North Indian, Punjabi\"\n",
        "df.loc[df['res_id'] == 18826162, 'cuisines'] = \"Indian, Fast Food\"\n",
        "df.loc[df['res_id'] == 18829710, 'cuisines'] = \"Paratha, North Indian\"\n",
        "df.loc[df['res_id'] == 18735081, 'cuisines'] = \"Bengali, Seafood\"\n",
        "df.loc[df['res_id'] == 18735073, 'cuisines'] = \"Street Food, Snacks\""
      ],
      "metadata": {
        "id": "tkVIS_qdZmCg"
      },
      "execution_count": null,
      "outputs": []
    },
    {
      "cell_type": "code",
      "source": [
        "df.loc[df['res_id'] == 18826458, 'cuisines'] = \"Indian, South Indian\"\n",
        "df.loc[df['res_id'] == 18832769, 'cuisines'] = \"Ice Cream, Desserts\"\n",
        "df.loc[df['res_id'] == 18827559, 'cuisines'] = \"Punjabi, North Indian, Chinese\"\n",
        "df.loc[df['res_id'] == 18827021, 'cuisines'] = \"Paratha, Indian\"\n",
        "df.loc[df['res_id'] == 18826460, 'cuisines'] = \"Indian, Fast Food\"\n",
        "df.loc[df['res_id'] == 18735075, 'cuisines'] = \"Bengali, Street Food\"\n",
        "df.loc[df['res_id'] == 18735082, 'cuisines'] = \"Biryani, Mughlai\"\n",
        "df.loc[df['res_id'] == 18735078, 'cuisines'] = \"Snacks, Beverages\"\n",
        "df.loc[df['res_id'] == 18735072, 'cuisines'] = \"Street Food, South Indian\"\n",
        "df.loc[df['res_id'] == 18735074, 'cuisines'] = \"Chinese, Fast Food\""
      ],
      "metadata": {
        "id": "HEnQFRWaZz5m"
      },
      "execution_count": null,
      "outputs": []
    },
    {
      "cell_type": "code",
      "source": [
        "df.loc[df['res_id'] == 18828076, 'cuisines'] = \"Multi-Cuisine, Indian\"\n",
        "df.loc[df['res_id'] == 18827560, 'cuisines'] = \"South Indian, Fast Food\"\n",
        "df.loc[df['res_id'] == 18828560, 'cuisines'] = \"Fried Chicken, Fast Food\"\n",
        "df.loc[df['res_id'] == 18826749, 'cuisines'] = \"Gujarati, North Indian\"\n",
        "df.loc[df['res_id'] == 18827022, 'cuisines'] = \"Chinese, Indian\"\n",
        "df.loc[df['res_id'] == 2301164, 'cuisines'] = \"Milkshakes, Beverages\"\n",
        "df.loc[df['res_id'] == 2301741, 'cuisines'] = \"North Indian, Fast Food\"\n",
        "df.loc[df['res_id'] == 18735076, 'cuisines'] = \"Street Food, Snacks\"\n",
        "df.loc[df['res_id'] == 18735080, 'cuisines'] = \"Bengali, South Indian\"\n",
        "df.loc[df['res_id'] == 18735077, 'cuisines'] = \"Fast Food, Desserts\""
      ],
      "metadata": {
        "id": "qVWX7SqiaY_C"
      },
      "execution_count": null,
      "outputs": []
    },
    {
      "cell_type": "code",
      "source": [
        "df.loc[df['res_id'] == 18827301, 'cuisines'] = \"North Indian, Mughlai\"\n",
        "df.loc[df['res_id'] == 18827561, 'cuisines'] = \"Gujarati, Chinese\"\n",
        "df.loc[df['res_id'] == 18827565, 'cuisines'] = \"Indian, Fast Food\"\n",
        "df.loc[df['res_id'] == 18828313, 'cuisines'] = \"Sweets, Snacks\"\n",
        "df.loc[df['res_id'] == 18828556, 'cuisines'] = \"South Indian, North Indian\"\n",
        "df.loc[df['res_id'] == 18831092, 'cuisines'] = \"Street Food, Chaat\"\n",
        "df.loc[df['res_id'] == 18831410, 'cuisines'] = \"Fast Food, Snacks\"\n",
        "df.loc[df['res_id'] == 18831551, 'cuisines'] = \"Indian, Farmhouse Dining\"\n",
        "df.loc[df['res_id'] == 18831555, 'cuisines'] = \"Gujarati, Kathiyawadi\"\n",
        "df.loc[df['res_id'] == 18831821, 'cuisines'] = \"Indian, Pure Veg\"\n"
      ],
      "metadata": {
        "id": "tQ5JYVW4amtT"
      },
      "execution_count": null,
      "outputs": []
    },
    {
      "cell_type": "code",
      "source": [
        "df.loc[df['res_id'] == 18829038, 'cuisines'] = \"North Indian, Chinese\"\n",
        "df.loc[df['res_id'] == 18826748, 'cuisines'] = \"South Indian, Fast Food\"\n",
        "df.loc[df['res_id'] == 18827017, 'cuisines'] = \"Gujarati, Thali\"\n",
        "df.loc[df['res_id'] == 18827820, 'cuisines'] = \"Punjabi, Chinese\"\n",
        "df.loc[df['res_id'] == 18827828, 'cuisines'] = \"Fast Food, Snacks\"\n",
        "df.loc[df['res_id'] == 18828067, 'cuisines'] = \"Mughlai, Biryani\"\n",
        "df.loc[df['res_id'] == 18828071, 'cuisines'] = \"Vegetarian, Indian\"\n",
        "df.loc[df['res_id'] == 18829036, 'cuisines'] = \"Continental, Italian\"\n",
        "df.loc[df['res_id'] == 18829042, 'cuisines'] = \"Street Food, Chaat\"\n",
        "df.loc[df['res_id'] == 18829489, 'cuisines'] = \"Fast Food, Snacks\""
      ],
      "metadata": {
        "id": "GBS2_vFrfJe9"
      },
      "execution_count": null,
      "outputs": []
    },
    {
      "cell_type": "code",
      "source": [
        "df.loc[df['res_id'] == 18829714, 'cuisines'] = \"Gujarati, Fast Food\"\n",
        "df.loc[df['res_id'] == 18829923, 'cuisines'] = \"North Indian, Chinese\"\n",
        "df.loc[df['res_id'] == 18830094, 'cuisines'] = \"South Indian, Snacks\"\n",
        "df.loc[df['res_id'] == 18830098, 'cuisines'] = \"Punjabi, Tandoori\"\n",
        "df.loc[df['res_id'] == 18830449, 'cuisines'] = \"Fast Food, Biryani\"\n",
        "df.loc[df['res_id'] == 18830453, 'cuisines'] = \"Street Food, Chaat\"\n",
        "df.loc[df['res_id'] == 18827015, 'cuisines'] = \"Gujarati Thali, Rajasthani\"\n",
        "df.loc[df['res_id'] == 18828316, 'cuisines'] = \"South Indian, Dosa\"\n",
        "df.loc[df['res_id'] == 18829040, 'cuisines'] = \"North Indian, Pure Veg\"\n",
        "df.loc[df['res_id'] == 18829272, 'cuisines'] = \"Chinese, Fast Food\""
      ],
      "metadata": {
        "id": "mviPW50nfjhQ"
      },
      "execution_count": null,
      "outputs": []
    },
    {
      "cell_type": "code",
      "source": [
        "df.loc[df['res_id'] == 18829494, 'cuisines'] = \"North Indian, Chinese\"\n",
        "df.loc[df['res_id'] == 18829709, 'cuisines'] = \"Gujarati Thali, Rajasthani\"\n",
        "df.loc[df['res_id'] == 18829713, 'cuisines'] = \"Punjabi, Tandoori\"\n",
        "df.loc[df['res_id'] == 18830454, 'cuisines'] = \"Fast Food, Biryani\"\n",
        "df.loc[df['res_id'] == 18830606, 'cuisines'] = \"Street Food, Chaat\"\n",
        "df.loc[df['res_id'] == 18830610, 'cuisines'] = \"South Indian, Dosa\"\n",
        "df.loc[df['res_id'] == 18827819, 'cuisines'] = \"North Indian, Pure Veg\"\n",
        "df.loc[df['res_id'] == 18829274, 'cuisines'] = \"Chinese, Fast Food\"\n",
        "df.loc[df['res_id'] == 18829491, 'cuisines'] = \"Gujarati, Fast Food\"\n",
        "df.loc[df['res_id'] == 18829711, 'cuisines'] = \"Indian, Pure Veg\""
      ],
      "metadata": {
        "id": "_RZj4BM1f12y"
      },
      "execution_count": null,
      "outputs": []
    },
    {
      "cell_type": "code",
      "source": [
        "df.loc[df['res_id'] == 18830092, 'cuisines'] = \"Kachhi, Gujarati\"\n",
        "df.loc[df['res_id'] == 18830452, 'cuisines'] = \"Fast Food, Chicken\"\n",
        "df.loc[df['res_id'] == 18830929, 'cuisines'] = \"North Indian, Pure Veg\"\n",
        "df.loc[df['res_id'] == 18831090, 'cuisines'] = \"Hotel Special, Multi-Cuisine\"\n",
        "df.loc[df['res_id'] == 18831095, 'cuisines'] = \"Street Food, Snacks\"\n",
        "df.loc[df['res_id'] == 18831408, 'cuisines'] = \"Gujarati, Kathiyawadi\"\n",
        "df.loc[df['res_id'] == 18831413, 'cuisines'] = \"Bhajiya, Snacks\"\n",
        "df.loc[df['res_id'] == 18831550, 'cuisines'] = \"Punjabi, Indian\"\n",
        "df.loc[df['res_id'] == 18829281, 'cuisines'] = \"Garden Theme, Chinese\"\n",
        "df.loc[df['res_id'] == 18829712, 'cuisines'] = \"Rajasthani, Thali\""
      ],
      "metadata": {
        "id": "J3hy7OdYgHXU"
      },
      "execution_count": null,
      "outputs": []
    },
    {
      "cell_type": "code",
      "source": [
        "df.loc[df['res_id'] == 18830091, 'cuisines'] = \"Farshan, Snacks\"\n",
        "df.loc[df['res_id'] == 18830095, 'cuisines'] = \"Gujarati, Punjabi, North Indian\"\n",
        "df.loc[df['res_id'] == 18830603, 'cuisines'] = \"Street Food, Snacks\"\n",
        "df.loc[df['res_id'] == 18830768, 'cuisines'] = \"Multi-Cuisine, Indian\"\n",
        "df.loc[df['res_id'] == 18831415, 'cuisines'] = \"Farshan, Kathiyawadi\"\n",
        "df.loc[df['res_id'] == 18831552, 'cuisines'] = \"Rajasthani, Punjabi\"\n",
        "df.loc[df['res_id'] == 18831700, 'cuisines'] = \"Catering, Indian\"\n",
        "df.loc[df['res_id'] == 18831822, 'cuisines'] = \"Dining Hall, Pure Veg\"\n",
        "df.loc[df['res_id'] == 18832179, 'cuisines'] = \"Hotel Special, Multi-Cuisine\"\n",
        "df.loc[df['res_id'] == 18830766, 'cuisines'] = \"Gujarati, Thali\"\n",
        "df.loc[df['res_id'] == 18830931, 'cuisines'] = \"Home Cooked, North Indian\"\n",
        "df.loc[df['res_id'] == 18830935, 'cuisines'] = \"Temple Prasadam, Pure Veg\"\n",
        "df.loc[df['res_id'] == 18831088, 'cuisines'] = \"Chinese, Fast Food\""
      ],
      "metadata": {
        "id": "R2X2RjQ5gX6D"
      },
      "execution_count": null,
      "outputs": []
    },
    {
      "cell_type": "code",
      "source": [
        "df.isnull().sum()"
      ],
      "metadata": {
        "id": "YZU0yfPQQ8CZ"
      },
      "execution_count": null,
      "outputs": []
    },
    {
      "cell_type": "code",
      "source": [
        "df[df['cuisines'].isna()]"
      ],
      "metadata": {
        "id": "P_iYNVPglqgE"
      },
      "execution_count": null,
      "outputs": []
    },
    {
      "cell_type": "code",
      "source": [
        "sns.heatmap(df.isnull())\n",
        "plt.show()"
      ],
      "metadata": {
        "id": "dVkuc8l7RbQu"
      },
      "execution_count": null,
      "outputs": []
    },
    {
      "cell_type": "code",
      "source": [
        "fig, axes = plt.subplots(2, 2, figsize=(6, 6))\n",
        "\n",
        "sns.boxplot(x=df['average_cost_for_two'], ax=axes[0, 0])\n",
        "axes[0, 0].set_title('average_cost_for_two')\n",
        "\n",
        "sns.boxplot(x=df['votes'], ax=axes[0, 1])\n",
        "axes[0, 1].set_title('votes')\n",
        "\n",
        "sns.boxplot(x=df['photo_count'], ax=axes[1, 0])\n",
        "axes[1, 0].set_title('photo_count')\n",
        "\n",
        "fig.delaxes(axes[1, 1])\n",
        "\n",
        "plt.tight_layout()\n",
        "plt.show()"
      ],
      "metadata": {
        "id": "ZBjCHR1tFQp-"
      },
      "execution_count": null,
      "outputs": []
    },
    {
      "cell_type": "code",
      "source": [
        "for column in ['average_cost_for_two' , 'votes', 'photo_count']:\n",
        "    Q1 = df[column].quantile(0.25)\n",
        "    Q3 = df[column].quantile(0.75)\n",
        "    IQR = Q3 - Q1\n",
        "    lower_bound = Q1 - 1.5 * IQR\n",
        "    upper_bound = Q3 + 1.5 * IQR\n",
        "    df[column] = np.where(df[column] < lower_bound, lower_bound, df[column])\n",
        "    df[column] = np.where(df[column] > upper_bound, upper_bound, df[column])"
      ],
      "metadata": {
        "id": "yWD8mwkPPveA"
      },
      "execution_count": null,
      "outputs": []
    },
    {
      "cell_type": "code",
      "source": [
        "fig, axes = plt.subplots(2, 2, figsize=(6, 6))\n",
        "\n",
        "sns.boxplot(x=df['average_cost_for_two'], ax=axes[0, 0])\n",
        "axes[0, 0].set_title('average_cost_for_two')\n",
        "\n",
        "sns.boxplot(x=df['votes'], ax=axes[0, 1])\n",
        "axes[0, 1].set_title('votes')\n",
        "\n",
        "sns.boxplot(x=df['photo_count'], ax=axes[1, 0])\n",
        "axes[1, 0].set_title('photo_count')\n",
        "\n",
        "fig.delaxes(axes[1, 1])\n",
        "\n",
        "plt.tight_layout()\n",
        "plt.show()"
      ],
      "metadata": {
        "id": "_2vbf-fYFeht"
      },
      "execution_count": null,
      "outputs": []
    },
    {
      "cell_type": "code",
      "source": [
        "# Calculate and visualize the average rating of restaurants."
      ],
      "metadata": {
        "id": "VOd8LZk3ZfcQ"
      },
      "execution_count": null,
      "outputs": []
    },
    {
      "cell_type": "code",
      "source": [
        "average_rating = df['aggregate_rating'].mean()\n",
        "print(f\"The average rating of restaurants is: {average_rating}\")\n"
      ],
      "metadata": {
        "id": "ojvZEYaVQbCU"
      },
      "execution_count": null,
      "outputs": []
    },
    {
      "cell_type": "code",
      "source": [
        "plt.figure(figsize=(6, 4))\n",
        "plt.bar(['Average Rating'], [average_rating], color='skyblue')\n",
        "plt.title('Average Rating of Restaurants')\n",
        "plt.ylabel('Rating')\n",
        "plt.ylim(0, 5)\n",
        "plt.show()"
      ],
      "metadata": {
        "id": "0QLS-8YrNG2Q"
      },
      "execution_count": null,
      "outputs": []
    },
    {
      "cell_type": "code",
      "source": [
        "# Analyze the distribution of restaurant ratings to understand the overall rating landscape."
      ],
      "metadata": {
        "id": "r3PweZPcZG3g"
      },
      "execution_count": null,
      "outputs": []
    },
    {
      "cell_type": "code",
      "source": [
        "plt.figure(figsize=(8, 6))\n",
        "sns.histplot(df['aggregate_rating'], bins=10, kde=True)\n",
        "plt.title('Distribution of  overall Restaurant Ratings')\n",
        "plt.xlabel('Aggregate Rating')\n",
        "plt.ylabel('Frequency')\n",
        "plt.show()"
      ],
      "metadata": {
        "id": "EKafvv-tLSIN"
      },
      "execution_count": null,
      "outputs": []
    },
    {
      "cell_type": "code",
      "source": [
        "# Identify the city with the highest concentration of restaurants"
      ],
      "metadata": {
        "id": "MZ1ncIv-ZQgM"
      },
      "execution_count": null,
      "outputs": []
    },
    {
      "cell_type": "code",
      "source": [
        "city_restaurant_counts = df['city'].value_counts().reset_index()\n",
        "city_restaurant_counts.columns = ['city', 'restaurant_count']\n",
        "highest_concentration_city = city_restaurant_counts.loc[city_restaurant_counts['restaurant_count'].idxmax()]\n"
      ],
      "metadata": {
        "id": "xyvAIDOT5VOq"
      },
      "execution_count": null,
      "outputs": []
    },
    {
      "cell_type": "code",
      "source": [
        "print(f\"City with the highest concentration of restaurants: {highest_concentration_city['city']}\")\n",
        "print(f\"Number of restaurants: {highest_concentration_city['restaurant_count']}\")"
      ],
      "metadata": {
        "id": "9wGEdTkW5VOq"
      },
      "execution_count": null,
      "outputs": []
    },
    {
      "cell_type": "code",
      "source": [
        "\n",
        "top_cities = city_restaurant_counts.head(10)\n",
        "\n",
        "plt.figure(figsize=(7, 7))\n",
        "sns.barplot(x='city', y='restaurant_count', data=top_cities, color = \"violet\")\n",
        "plt.title('Top Cities with Highest Restaurant')\n",
        "plt.xlabel('City')\n",
        "plt.ylabel('Number of Restaurants')\n",
        "plt.xticks(rotation=45, ha='right')\n",
        "plt.show()"
      ],
      "metadata": {
        "id": "vYMBAxWT5VOq"
      },
      "execution_count": null,
      "outputs": []
    },
    {
      "cell_type": "code",
      "source": [
        "# Visualize the distribution of restaurant ratings across different cities."
      ],
      "metadata": {
        "id": "5YYAvAfAWNz0"
      },
      "execution_count": null,
      "outputs": []
    },
    {
      "cell_type": "code",
      "source": [
        "city_ratings = df.groupby(['city', 'aggregate_rating'])['name'].count().reset_index()\n",
        "city_ratings.rename(columns={'name': 'count'}, inplace=True)"
      ],
      "metadata": {
        "id": "P4lRoxWjeQl4"
      },
      "execution_count": null,
      "outputs": []
    },
    {
      "cell_type": "code",
      "source": [
        "plt.figure(figsize=(8, 8))\n",
        "sns.boxplot(x='city', y='aggregate_rating', data=city_ratings, palette=\"Set3\")\n",
        "plt.title('Distribution of Restaurant Ratings Across Cities')\n",
        "plt.xlabel('City')\n",
        "plt.ylabel('Aggregate Rating')\n",
        "plt.xticks(rotation=90)\n",
        "plt.tight_layout()\n",
        "plt.show()"
      ],
      "metadata": {
        "id": "D-0gKtYqRrDV"
      },
      "execution_count": null,
      "outputs": []
    },
    {
      "cell_type": "code",
      "source": [
        "# Determine the most popular cuisines among the listed restaurants. Investigate if there's a correlation between the variety of cuisines offered and restaurant ratings."
      ],
      "metadata": {
        "id": "oVyOOB5BWEGi"
      },
      "execution_count": null,
      "outputs": []
    },
    {
      "cell_type": "code",
      "source": [
        "most_popuular_cuisines = df['cuisines'].value_counts().head(10)\n",
        "most_popuular_cuisines"
      ],
      "metadata": {
        "id": "9IHG0INDYgwV"
      },
      "execution_count": null,
      "outputs": []
    },
    {
      "cell_type": "code",
      "source": [
        "df['cuisine_variety'] = df['cuisines'].str.split(',').str.len()\n",
        "df['cuisine_variety'] = df['cuisines'].str.split(',').str.len()\n",
        "\n",
        "corelation = df['cuisine_variety'].corr(df['aggregate_rating'])\n",
        "print(f' the corelations between cuisine_variety and aggregate_rating is {corelation}')\n"
      ],
      "metadata": {
        "id": "CfhzsZxGcdSH"
      },
      "execution_count": null,
      "outputs": []
    },
    {
      "cell_type": "code",
      "source": [
        "\n",
        "plt.figure(figsize=(8, 6))\n",
        "sns.scatterplot(x='cuisine_variety', y='aggregate_rating', data=df , color = 'orchid')\n",
        "plt.title('Correlation between Cuisine Variety and Restaurant Ratings')\n",
        "plt.xlabel('Number of Cuisines Offered')\n",
        "plt.ylabel('Aggregate Rating')\n",
        "plt.show()"
      ],
      "metadata": {
        "id": "3Jr06It2hsnx"
      },
      "execution_count": null,
      "outputs": []
    },
    {
      "cell_type": "code",
      "source": [
        "# Analyze the relationship between price range and restaurant ratings."
      ],
      "metadata": {
        "id": "i5jbD6OJWBM8"
      },
      "execution_count": null,
      "outputs": []
    },
    {
      "cell_type": "code",
      "source": [
        "plt.figure(figsize = (10 , 6))\n",
        "sns.scatterplot(x = 'price_range' , y = 'aggregate_rating' , data = df, color = 'Cyan')\n",
        "plt.xlabel('price_rating')\n",
        "plt.ylabel('resturent_ratings')\n",
        "plt.title('price_rating vs resturent_rating')\n",
        "plt.show()\n"
      ],
      "metadata": {
        "id": "t1GESxxIds4W"
      },
      "execution_count": null,
      "outputs": []
    },
    {
      "cell_type": "markdown",
      "source": [
        "'price_rating vs resturent_rating'"
      ],
      "metadata": {
        "id": "A_zANzshYk5N"
      }
    },
    {
      "cell_type": "code",
      "source": [
        "# Visualize the average cost for two people in different price categories."
      ],
      "metadata": {
        "id": "8VEexpEyV_Xg"
      },
      "execution_count": null,
      "outputs": []
    },
    {
      "cell_type": "code",
      "source": [
        "average_cost  = df['average_cost_for_two'].mean()\n",
        "print(f'the average cost of resturent is {average_cost}')"
      ],
      "metadata": {
        "id": "eBGLxlnHgjjq"
      },
      "execution_count": null,
      "outputs": []
    },
    {
      "cell_type": "code",
      "source": [
        "plt.figure(figsize=(10, 6))\n",
        "sns.barplot(x='price_range', y='average_cost_for_two', data=df , color = 'Magenta')\n",
        "plt.title('Average Cost for Two People in Different Price Categories')\n",
        "plt.xlabel('Price Range')\n",
        "plt.ylabel('Average Cost for Two')\n",
        "plt.show()\n"
      ],
      "metadata": {
        "id": "Hnq0RCUKdO4y"
      },
      "execution_count": null,
      "outputs": []
    },
    {
      "cell_type": "code",
      "source": [
        "# Investigate the impact of online order availability on restaurant ratings. Analyze the distribution of restaurants that offer table booking."
      ],
      "metadata": {
        "id": "zdqxOYjAV9Hx"
      },
      "execution_count": null,
      "outputs": []
    },
    {
      "cell_type": "code",
      "source": [
        "df['table_booking_available'] = df['highlights'].str.contains('table booking', case=False, na=False).astype(int)\n"
      ],
      "metadata": {
        "id": "4etTQkJH9Lhq"
      },
      "execution_count": null,
      "outputs": []
    },
    {
      "cell_type": "code",
      "source": [
        "plt.figure(figsize=(8, 6))\n",
        "sns.countplot(x='table_booking_available', data=df)\n",
        "plt.title('Distribution of Restaurants with Table Booking')\n",
        "plt.xlabel('Table Booking Available (1=Yes, 0=No)')\n",
        "plt.ylabel('Count')\n",
        "plt.show()"
      ],
      "metadata": {
        "id": "HwU0EJoC9OmW"
      },
      "execution_count": null,
      "outputs": []
    },
    {
      "cell_type": "markdown",
      "source": [
        "Distribution of Restaurants with Table Booking"
      ],
      "metadata": {
        "id": "kuispcUAYWFf"
      }
    },
    {
      "cell_type": "code",
      "source": [
        "# identify and visualize the top restaurant chains based on the number of outlets. Explore the ratings of these top chains."
      ],
      "metadata": {
        "id": "8KxWBDS5Vzs0"
      },
      "execution_count": null,
      "outputs": []
    },
    {
      "cell_type": "code",
      "source": [
        "chain_counts = df.groupby('name')['name'].count().reset_index(name='outlet_count')\n",
        "top_chains_df = chain_counts.sort_values('outlet_count', ascending=False).head(10)\n",
        "print(top_chains_df)"
      ],
      "metadata": {
        "id": "VzkhCvbhNu8Z"
      },
      "execution_count": null,
      "outputs": []
    },
    {
      "cell_type": "code",
      "source": [
        "plt.figure(figsize=(10, 6))\n",
        "sns.barplot(x='name', y='outlet_count', data=top_chains_df , color = 'green')\n",
        "plt.title('Top Restaurant Chains by Number of Outlets')\n",
        "plt.xlabel('Chain Name')\n",
        "plt.ylabel('Number of Outlets')\n",
        "plt.xticks(rotation=90, ha='right')\n",
        "plt.show()"
      ],
      "metadata": {
        "id": "6VGYAkkL1bhb"
      },
      "execution_count": null,
      "outputs": []
    },
    {
      "cell_type": "code",
      "source": [
        "# Analyze the distribution of restaurants based on features like Wi-Fi, Alcohol availability, etc. Investigate if the presence of certain features correlates with higher ratings."
      ],
      "metadata": {
        "id": "mbA2RdK5V5-g"
      },
      "execution_count": null,
      "outputs": []
    },
    {
      "cell_type": "code",
      "source": [
        "df['has_wifi'] = df['highlights'].str.contains('Wi-Fi', case=False, na=False).astype(int)\n"
      ],
      "metadata": {
        "id": "dUsD_zST3Tam"
      },
      "execution_count": null,
      "outputs": []
    },
    {
      "cell_type": "code",
      "source": [
        "df['alcohol_availability'] = df['highlights'].str.contains('Alcohol', case=False, na=False).astype(int)\n"
      ],
      "metadata": {
        "id": "O6Xi23d93sLi"
      },
      "execution_count": null,
      "outputs": []
    },
    {
      "cell_type": "code",
      "source": [
        "wifi_counts = df['has_wifi'].value_counts()\n",
        "print(\"Wi-Fi Availability:\")\n",
        "print(wifi_counts)\n",
        "\n",
        "\n",
        "alcohol_counts = df['alcohol_availability'].value_counts()\n",
        "print(\"\\nAlcohol Availability:\")\n",
        "print(alcohol_counts)"
      ],
      "metadata": {
        "id": "f1vHv7dr4iA3"
      },
      "execution_count": null,
      "outputs": []
    },
    {
      "cell_type": "code",
      "source": [
        "alcohol_correlation = df['alcohol_availability'].corr(df['aggregate_rating'])\n",
        "print(f\"Correlation between alcohol availability and aggregate rating: {alcohol_correlation}\")\n"
      ],
      "metadata": {
        "id": "9JyG8duA5i7X"
      },
      "execution_count": null,
      "outputs": []
    },
    {
      "cell_type": "code",
      "source": [
        "plt.figure(figsize=(8, 6))\n",
        "sns.countplot(x='has_wifi', data=df, color = 'teal')\n",
        "plt.title('Distribution of Restaurants with Wi-Fi')\n",
        "plt.xlabel('Wi-Fi Availability (1=Yes, 0=No)')\n",
        "plt.ylabel('Number of Restaurants')\n",
        "plt.show()"
      ],
      "metadata": {
        "id": "vMLJuG-D42Fq"
      },
      "execution_count": null,
      "outputs": []
    },
    {
      "cell_type": "markdown",
      "source": [
        "Distribution of Restaurants with Wi-Fi"
      ],
      "metadata": {
        "id": "55g6CdSfYAXf"
      }
    },
    {
      "cell_type": "code",
      "source": [
        "plt.figure(figsize=(8, 6))\n",
        "sns.countplot(x='alcohol_availability', data=df, color = 'orange')\n",
        "plt.title('Distribution of Restaurants with Alcohol')\n",
        "plt.xlabel('Alcohol Availability (1=Yes, 0=No)')\n",
        "plt.ylabel('Number of Restaurants')\n",
        "plt.show()"
      ],
      "metadata": {
        "id": "Cj4__1Z06NaK"
      },
      "execution_count": null,
      "outputs": []
    },
    {
      "cell_type": "markdown",
      "source": [
        "Distribution of Restaurants with Alcohol"
      ],
      "metadata": {
        "id": "1pMWFhI9X0gx"
      }
    },
    {
      "cell_type": "code",
      "source": [
        "top_7_Cuisines = df['cuisines'].value_counts().head(7)\n",
        "top_7_Cuisines"
      ],
      "metadata": {
        "id": "MQs3W_XXEoz1"
      },
      "execution_count": null,
      "outputs": []
    },
    {
      "cell_type": "code",
      "source": [
        "# top 7 Cuisines"
      ],
      "metadata": {
        "id": "KkuWzIqIqQ39"
      },
      "execution_count": null,
      "outputs": []
    },
    {
      "cell_type": "code",
      "source": [
        "sns.barplot(x=top_7_Cuisines.index, y=top_7_Cuisines.values)\n",
        "plt.title('Top 7 Cuisines')\n",
        "plt.xlabel('Cuisine')\n",
        "plt.ylabel('Count')\n",
        "plt.xticks(rotation=90)\n",
        "plt.show()"
      ],
      "metadata": {
        "id": "ycaeYLxNEy0X"
      },
      "execution_count": null,
      "outputs": []
    },
    {
      "cell_type": "code",
      "source": [
        "# Distribution of Average Cost for Two"
      ],
      "metadata": {
        "id": "xgXda-FIqWtf"
      },
      "execution_count": null,
      "outputs": []
    },
    {
      "cell_type": "code",
      "source": [
        "\n",
        "\n",
        "plt.figure(figsize=(10, 5))\n",
        "sns.histplot(df['average_cost_for_two'], bins=30, kde=True)\n",
        "plt.title('Distribution of Average Cost for Two')\n",
        "plt.xlabel('Average Cost for Two')\n",
        "plt.ylabel('Frequency')\n",
        "plt.show()"
      ],
      "metadata": {
        "id": "QaIO7sW_IARf"
      },
      "execution_count": null,
      "outputs": []
    },
    {
      "cell_type": "code",
      "source": [
        "# Relationship between Price Rating and Restaurant Rating"
      ],
      "metadata": {
        "id": "Z7-F8Vz9qeF1"
      },
      "execution_count": null,
      "outputs": []
    },
    {
      "cell_type": "code",
      "source": [
        "plt.figure(figsize=(10, 6))\n",
        "sns.barplot(x='price_range', y='aggregate_rating', data=df)\n",
        "plt.title('Relationship between Price Rating and Restaurant Rating')\n",
        "plt.xlabel('Price Rating')\n",
        "plt.ylabel('Restaurant Rating')\n",
        "plt.show()"
      ],
      "metadata": {
        "id": "OGC4ScGeKbqv"
      },
      "execution_count": null,
      "outputs": []
    },
    {
      "cell_type": "code",
      "source": [
        "# Top 10 Restaurants by Number of Votes"
      ],
      "metadata": {
        "id": "up-8GMZ1qiJs"
      },
      "execution_count": null,
      "outputs": []
    },
    {
      "cell_type": "code",
      "source": [
        "highest_votes_restaurant = df.loc[df['votes'].idxmax()]\n",
        "restaurant_name = highest_votes_restaurant['name']\n",
        "vote_count = highest_votes_restaurant['votes']\n",
        "\n",
        "print(f\"Restaurant with the highest votes: {restaurant_name}\")\n",
        "print(f\"Number of votes: {vote_count}\")"
      ],
      "metadata": {
        "id": "Hw7hyq7XL2oR"
      },
      "execution_count": null,
      "outputs": []
    },
    {
      "cell_type": "code",
      "source": [
        "sns.barplot(x='name', y='votes', data=df.sort_values(by='votes', ascending=False).head(10))\n",
        "plt.title('Top 10 Restaurants by Number of Votes')\n",
        "plt.xlabel('Restaurant Name')\n",
        "plt.ylabel('Number of Votes')\n",
        "plt.xticks(rotation=90)\n",
        "plt.show()"
      ],
      "metadata": {
        "id": "_lyOifhHSuIL"
      },
      "execution_count": null,
      "outputs": []
    },
    {
      "cell_type": "code",
      "source": [
        "# Average Rating of Top 7 Restaurant Chains (by Outlet Count)"
      ],
      "metadata": {
        "id": "2AC__c_Pqp45"
      },
      "execution_count": null,
      "outputs": []
    },
    {
      "cell_type": "code",
      "source": [
        "chain_ratings = df.groupby('name')['aggregate_rating'].mean().reset_index()\n",
        "top_chains = df['name'].value_counts().head(7).index\n",
        "avg_ratings = chain_ratings[chain_ratings['name'].isin(top_chains)]\n"
      ],
      "metadata": {
        "id": "7nChkv4qSqM5"
      },
      "execution_count": null,
      "outputs": []
    },
    {
      "cell_type": "code",
      "source": [
        "plt.figure(figsize=(10, 6))\n",
        "sns.barplot(x='name', y='aggregate_rating', data=avg_ratings)\n",
        "plt.title('Average Rating of Top 7 Restaurant Chains (by Outlet Count)')\n",
        "plt.xlabel('Chain Name')\n",
        "plt.ylabel('Average Rating')\n",
        "plt.xticks(rotation=45, ha='right')\n",
        "plt.show()"
      ],
      "metadata": {
        "id": "Yi5S48W6t3df"
      },
      "execution_count": null,
      "outputs": []
    }
  ]
}